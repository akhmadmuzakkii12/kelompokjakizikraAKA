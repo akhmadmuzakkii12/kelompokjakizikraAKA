{
 "cells": [
  {
   "cell_type": "markdown",
   "metadata": {},
   "source": [
    "### Algoritma Dijkstra"
   ]
  },
  {
   "cell_type": "code",
   "execution_count": null,
   "metadata": {},
   "outputs": [],
   "source": [
    "def dijkstra(self, start_vertex_data):\n",
    "        start_vertex = self.vertex_data.index(start_vertex_data)\n",
    "        distances = [float('inf')] * self.size\n",
    "        distances[start_vertex] = 0\n",
    "        visited = [False] * self.size\n",
    "\n",
    "        for _ in range(self.size):\n",
    "            min_distance = float('inf')\n",
    "            u = None\n",
    "            for i in range(self.size):\n",
    "                if not visited[i] and distances[i] < min_distance:\n",
    "                    min_distance = distances[i]\n",
    "                    u = i\n",
    "\n",
    "            if u is None:\n",
    "                break\n",
    "\n",
    "            visited[u] = True\n",
    "\n",
    "            for v in range(self.size):\n",
    "                if self.adj_matrix[u][v] != 0 and not visited[v]:\n",
    "                    alt = distances[u] + self.adj_matrix[u][v]\n",
    "                    if alt < distances[v]:\n",
    "                        distances[v] = alt\n",
    "\n",
    "        return distances"
   ]
  },
  {
   "cell_type": "markdown",
   "metadata": {},
   "source": [
    "### Algoritma A*"
   ]
  },
  {
   "cell_type": "code",
   "execution_count": 3,
   "metadata": {},
   "outputs": [],
   "source": [
    "import heapq\n",
    "import networkx as nx\n",
    "import matplotlib.pyplot as plt\n",
    "\n",
    "def a_star_recursive(graph, start, goal, heuristic, open_set=None, g_score=None, came_from=None):\n",
    "    # Inisialisasi variabel jika belum ada (pada iterasi pertama)\n",
    "    if open_set is None:\n",
    "        open_set = []\n",
    "        heapq.heappush(open_set, (0 + heuristic[start], start))\n",
    "\n",
    "    if g_score is None:\n",
    "        g_score = {node: float('inf') for node in graph}\n",
    "        g_score[start] = 0\n",
    "\n",
    "    if came_from is None:\n",
    "        came_from = {}\n",
    "\n",
    "    # Base case: jika open_set kosong, tidak ada jalur\n",
    "    if not open_set:\n",
    "        return None  # Jalur tidak ditemukan\n",
    "\n",
    "    # Ambil node dengan nilai f (g + h) terkecil dari open_set\n",
    "    _, current = heapq.heappop(open_set)\n",
    "\n",
    "    # Jika mencapai tujuan, bangun jalur dari came_from\n",
    "    if current == goal:\n",
    "        path = []\n",
    "        while current in came_from:\n",
    "            path.append(current)\n",
    "            current = came_from[current]\n",
    "        path.append(start)\n",
    "        return path[::-1]  # Balikkan urutan path\n",
    "\n",
    "    # Iterasi tetangga dari node saat ini\n",
    "    for neighbor, cost in graph[current].items():\n",
    "        tentative_g_score = g_score[current] + cost\n",
    "\n",
    "        if tentative_g_score < g_score[neighbor]:\n",
    "            # Update g_score dan jalur\n",
    "            g_score[neighbor] = tentative_g_score\n",
    "            f_score = tentative_g_score + heuristic[neighbor]\n",
    "            came_from[neighbor] = current\n",
    "\n",
    "            # Jika tetangga belum ada di open_set, tambahkan\n",
    "            if not any(neighbor == item[1] for item in open_set):\n",
    "                heapq.heappush(open_set, (f_score, neighbor))\n",
    "\n",
    "    # Rekursi dengan status terkini\n",
    "    return a_star_recursive(graph, start, goal, heuristic, open_set, g_score, came_from)"
   ]
  }
 ],
 "metadata": {
  "kernelspec": {
   "display_name": "vsc",
   "language": "python",
   "name": "python3"
  },
  "language_info": {
   "codemirror_mode": {
    "name": "ipython",
    "version": 3
   },
   "file_extension": ".py",
   "mimetype": "text/x-python",
   "name": "python",
   "nbconvert_exporter": "python",
   "pygments_lexer": "ipython3",
   "version": "3.11.9"
  }
 },
 "nbformat": 4,
 "nbformat_minor": 2
}
